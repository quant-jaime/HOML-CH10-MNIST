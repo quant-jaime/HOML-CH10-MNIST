{
 "cells": [
  {
   "cell_type": "code",
   "execution_count": 25,
   "metadata": {},
   "outputs": [],
   "source": [
    "import tensorflow as tf\n",
    "from tensorflow import keras"
   ]
  },
  {
   "cell_type": "code",
   "execution_count": 26,
   "metadata": {},
   "outputs": [
    {
     "name": "stdout",
     "output_type": "stream",
     "text": [
      "Downloading data from https://storage.googleapis.com/tensorflow/tf-keras-datasets/train-labels-idx1-ubyte.gz\n",
      "32768/29515 [=================================] - 0s 0us/step\n",
      "Downloading data from https://storage.googleapis.com/tensorflow/tf-keras-datasets/train-images-idx3-ubyte.gz\n",
      "26427392/26421880 [==============================] - 1s 0us/step\n",
      "Downloading data from https://storage.googleapis.com/tensorflow/tf-keras-datasets/t10k-labels-idx1-ubyte.gz\n",
      "8192/5148 [===============================================] - 0s 0us/step\n",
      "Downloading data from https://storage.googleapis.com/tensorflow/tf-keras-datasets/t10k-images-idx3-ubyte.gz\n",
      "4423680/4422102 [==============================] - 0s 0us/step\n"
     ]
    }
   ],
   "source": [
    "fashion_mnist = keras.datasets.fashion_mnist\n",
    "(X_train_full, y_train_full), (X_test, y_test) = fashion_mnist.load_data()"
   ]
  },
  {
   "cell_type": "code",
   "execution_count": 27,
   "metadata": {},
   "outputs": [
    {
     "data": {
      "text/plain": [
       "(60000, 28, 28)"
      ]
     },
     "execution_count": 27,
     "metadata": {},
     "output_type": "execute_result"
    }
   ],
   "source": [
    "X_train_full.shape"
   ]
  },
  {
   "cell_type": "code",
   "execution_count": 28,
   "metadata": {},
   "outputs": [
    {
     "data": {
      "text/plain": [
       "dtype('uint8')"
      ]
     },
     "execution_count": 28,
     "metadata": {},
     "output_type": "execute_result"
    }
   ],
   "source": [
    "X_train_full.dtype"
   ]
  },
  {
   "cell_type": "code",
   "execution_count": 58,
   "metadata": {},
   "outputs": [],
   "source": [
    "#### the dataset is already split into training set and test set, there is no validation set\n",
    "# we'll create a new validation set\n",
    "\n",
    "X_valid, X_train, = X_train_full[:5000] / 255.0, X_train_full[5000:] / 255.0\n",
    "y_valid, y_train = y_train_full[:5000], y_train_full[5000:]"
   ]
  },
  {
   "cell_type": "code",
   "execution_count": 59,
   "metadata": {},
   "outputs": [],
   "source": [
    "#defining names for each class\n",
    "\n",
    "class_names = ['T-shirt/top', 'Trouser', 'Pullover', 'Dress', 'Coat',\n",
    "               'Sandal', 'Shirt', 'Sneaker', 'Bag', 'Ankle boot']"
   ]
  },
  {
   "cell_type": "code",
   "execution_count": 60,
   "metadata": {},
   "outputs": [
    {
     "data": {
      "text/plain": [
       "'Coat'"
      ]
     },
     "execution_count": 60,
     "metadata": {},
     "output_type": "execute_result"
    }
   ],
   "source": [
    "class_names[y_train[0]]"
   ]
  },
  {
   "cell_type": "code",
   "execution_count": 61,
   "metadata": {},
   "outputs": [],
   "source": [
    "## Classification MLP with two hidden layers\n",
    "\n",
    "# sequetial model is a simple keras model for NN that are composed of a single stack \n",
    "# of layers connected sequentially\n",
    "\n",
    "#Sequential is an API \n",
    "model = keras.models.Sequential()\n",
    "### first hidden layer with pixel being 28 by 28 = 784\n",
    "# the flatten layer is to convert each input image into a 1D array\n",
    "# since its the first layer, you should specify the input_shape \n",
    "# input layer \n",
    "model.add(keras.layers.Flatten(input_shape =[28,28]))\n",
    "\n",
    "# add a dense hidden layer with 300 neurons, with a ReLU activation function \n",
    "# each dense layer manages its own weight matrix, containing all the connection weights\n",
    "# between the neurons and their inputs. \n",
    "model.add(keras.layers.Dense(300, activation = 'relu'))\n",
    "\n",
    "# second hidden layer with 100 neurons with another ReLU activation function\n",
    "model.add(keras.layers.Dense(100, activation = 'relu'))\n",
    "\n",
    "# add a dense output layer with 10 neurons (one per class), using a softmax activation function \n",
    "model.add(keras.layers.Dense(10, activation = 'softmax'))\n",
    "\n"
   ]
  },
  {
   "cell_type": "code",
   "execution_count": 62,
   "metadata": {},
   "outputs": [],
   "source": [
    "### displaying all the model's layer, including each layers name, its output shape\n",
    "# number of parameters. The summary ends with the ottal number of paramers, including\n",
    "# trainable and non-trainable parameters"
   ]
  },
  {
   "cell_type": "code",
   "execution_count": 63,
   "metadata": {},
   "outputs": [
    {
     "name": "stdout",
     "output_type": "stream",
     "text": [
      "_________________________________________________________________\n",
      "Layer (type)                 Output Shape              Param #   \n",
      "=================================================================\n",
      "flatten_5 (Flatten)          (None, 784)               0         \n",
      "_________________________________________________________________\n",
      "dense_10 (Dense)             (None, 300)               235500    \n",
      "_________________________________________________________________\n",
      "dense_11 (Dense)             (None, 100)               30100     \n",
      "_________________________________________________________________\n",
      "dense_12 (Dense)             (None, 10)                1010      \n",
      "=================================================================\n",
      "Total params: 266,610\n",
      "Trainable params: 266,610\n",
      "Non-trainable params: 0\n",
      "_________________________________________________________________\n"
     ]
    }
   ],
   "source": [
    "model.summary()\n",
    "\n",
    "# second layer has 235,500 becasue 28 * 28 * (30) =235200 + 300 bias = 235,500 "
   ]
  },
  {
   "cell_type": "code",
   "execution_count": 64,
   "metadata": {},
   "outputs": [
    {
     "data": {
      "text/plain": [
       "[<tensorflow.python.keras.layers.core.Flatten at 0xb38b7dbe0>,\n",
       " <tensorflow.python.keras.layers.core.Dense at 0xb38b7dcf8>,\n",
       " <tensorflow.python.keras.layers.core.Dense at 0xb38b7df98>,\n",
       " <tensorflow.python.keras.layers.core.Dense at 0xb38a3e518>]"
      ]
     },
     "execution_count": 64,
     "metadata": {},
     "output_type": "execute_result"
    }
   ],
   "source": [
    "model.layers"
   ]
  },
  {
   "cell_type": "code",
   "execution_count": 65,
   "metadata": {},
   "outputs": [
    {
     "data": {
      "text/plain": [
       "'dense_10'"
      ]
     },
     "execution_count": 65,
     "metadata": {},
     "output_type": "execute_result"
    }
   ],
   "source": [
    "hidden1 = model.layers[1]\n",
    "hidden1.name"
   ]
  },
  {
   "cell_type": "code",
   "execution_count": 69,
   "metadata": {},
   "outputs": [
    {
     "data": {
      "text/plain": [
       "True"
      ]
     },
     "execution_count": 69,
     "metadata": {},
     "output_type": "execute_result"
    }
   ],
   "source": [
    "model.get_layer('dense_10') is hidden1"
   ]
  },
  {
   "cell_type": "code",
   "execution_count": 70,
   "metadata": {},
   "outputs": [
    {
     "data": {
      "text/plain": [
       "array([[ 0.0614499 , -0.03255781,  0.00223378, ...,  0.03821967,\n",
       "        -0.01675514,  0.02194966],\n",
       "       [ 0.0390401 , -0.01045639, -0.03525764, ...,  0.02039461,\n",
       "         0.0266479 ,  0.02152006],\n",
       "       [ 0.03231631, -0.02395875, -0.04539245, ..., -0.01263544,\n",
       "         0.03494162, -0.0313    ],\n",
       "       ...,\n",
       "       [-0.04043998,  0.0263494 ,  0.05511525, ..., -0.06295386,\n",
       "         0.05898203, -0.02254425],\n",
       "       [-0.05164579,  0.01479275,  0.07125168, ...,  0.03601222,\n",
       "         0.02103835, -0.01050182],\n",
       "       [ 0.04186168, -0.00817921, -0.05671031, ...,  0.07277563,\n",
       "         0.00686546, -0.00680415]], dtype=float32)"
      ]
     },
     "execution_count": 70,
     "metadata": {},
     "output_type": "execute_result"
    }
   ],
   "source": [
    "# all the parameters of a layer can be accessed\n",
    "# for a Dense Layer, it includes both the connection weights and bias terms \n",
    "\n",
    "# shape of the weight matrix depends on the number of input\n",
    "weights, biases = hidden1.get_weights()\n",
    "weights"
   ]
  },
  {
   "cell_type": "code",
   "execution_count": 71,
   "metadata": {},
   "outputs": [
    {
     "data": {
      "text/plain": [
       "array([0., 0., 0., 0., 0., 0., 0., 0., 0., 0., 0., 0., 0., 0., 0., 0., 0.,\n",
       "       0., 0., 0., 0., 0., 0., 0., 0., 0., 0., 0., 0., 0., 0., 0., 0., 0.,\n",
       "       0., 0., 0., 0., 0., 0., 0., 0., 0., 0., 0., 0., 0., 0., 0., 0., 0.,\n",
       "       0., 0., 0., 0., 0., 0., 0., 0., 0., 0., 0., 0., 0., 0., 0., 0., 0.,\n",
       "       0., 0., 0., 0., 0., 0., 0., 0., 0., 0., 0., 0., 0., 0., 0., 0., 0.,\n",
       "       0., 0., 0., 0., 0., 0., 0., 0., 0., 0., 0., 0., 0., 0., 0., 0., 0.,\n",
       "       0., 0., 0., 0., 0., 0., 0., 0., 0., 0., 0., 0., 0., 0., 0., 0., 0.,\n",
       "       0., 0., 0., 0., 0., 0., 0., 0., 0., 0., 0., 0., 0., 0., 0., 0., 0.,\n",
       "       0., 0., 0., 0., 0., 0., 0., 0., 0., 0., 0., 0., 0., 0., 0., 0., 0.,\n",
       "       0., 0., 0., 0., 0., 0., 0., 0., 0., 0., 0., 0., 0., 0., 0., 0., 0.,\n",
       "       0., 0., 0., 0., 0., 0., 0., 0., 0., 0., 0., 0., 0., 0., 0., 0., 0.,\n",
       "       0., 0., 0., 0., 0., 0., 0., 0., 0., 0., 0., 0., 0., 0., 0., 0., 0.,\n",
       "       0., 0., 0., 0., 0., 0., 0., 0., 0., 0., 0., 0., 0., 0., 0., 0., 0.,\n",
       "       0., 0., 0., 0., 0., 0., 0., 0., 0., 0., 0., 0., 0., 0., 0., 0., 0.,\n",
       "       0., 0., 0., 0., 0., 0., 0., 0., 0., 0., 0., 0., 0., 0., 0., 0., 0.,\n",
       "       0., 0., 0., 0., 0., 0., 0., 0., 0., 0., 0., 0., 0., 0., 0., 0., 0.,\n",
       "       0., 0., 0., 0., 0., 0., 0., 0., 0., 0., 0., 0., 0., 0., 0., 0., 0.,\n",
       "       0., 0., 0., 0., 0., 0., 0., 0., 0., 0., 0.], dtype=float32)"
      ]
     },
     "execution_count": 71,
     "metadata": {},
     "output_type": "execute_result"
    }
   ],
   "source": [
    "biases"
   ]
  },
  {
   "cell_type": "code",
   "execution_count": 72,
   "metadata": {},
   "outputs": [
    {
     "data": {
      "text/plain": [
       "(784, 300)"
      ]
     },
     "execution_count": 72,
     "metadata": {},
     "output_type": "execute_result"
    }
   ],
   "source": [
    "weights.shape"
   ]
  },
  {
   "cell_type": "code",
   "execution_count": 73,
   "metadata": {},
   "outputs": [
    {
     "data": {
      "text/plain": [
       "(300,)"
      ]
     },
     "execution_count": 73,
     "metadata": {},
     "output_type": "execute_result"
    }
   ],
   "source": [
    "biases.shape"
   ]
  },
  {
   "cell_type": "code",
   "execution_count": 74,
   "metadata": {},
   "outputs": [],
   "source": [
    "### COMPILING THE MODEL\n",
    "\n",
    "# after themodel is created, you define the loss function and the optimizer\n",
    "\n",
    "# loss is defined because we have sparse label\n",
    "# optimizer is defined as stochastic Gradient Descent using backpropogation\n",
    "# when using SGD optimmizer, you must identify the learning rate by the following \n",
    "# optimizer = keras.optimizers.SGD(lr = 0.01)\n",
    "#the one below is by default a 0.01 learning rate\n",
    "model.compile(loss = 'sparse_categorical_crossentropy',\n",
    "              optimizer = 'sgd',\n",
    "              metrics = ['accuracy'])"
   ]
  },
  {
   "cell_type": "code",
   "execution_count": 75,
   "metadata": {},
   "outputs": [
    {
     "name": "stdout",
     "output_type": "stream",
     "text": [
      "Train on 55000 samples, validate on 5000 samples\n",
      "Epoch 1/30\n",
      "55000/55000 [==============================] - 5s 97us/sample - loss: 1.4711 - acc: 0.5934 - val_loss: 1.0066 - val_acc: 0.6968\n",
      "Epoch 2/30\n",
      "55000/55000 [==============================] - 4s 78us/sample - loss: 0.8818 - acc: 0.7190 - val_loss: 0.7759 - val_acc: 0.7446\n",
      "Epoch 3/30\n",
      "55000/55000 [==============================] - 4s 81us/sample - loss: 0.7368 - acc: 0.7594 - val_loss: 0.6823 - val_acc: 0.7802\n",
      "Epoch 4/30\n",
      "55000/55000 [==============================] - 4s 79us/sample - loss: 0.6633 - acc: 0.7855 - val_loss: 0.6259 - val_acc: 0.8000\n",
      "Epoch 5/30\n",
      "55000/55000 [==============================] - 4s 78us/sample - loss: 0.6151 - acc: 0.7998 - val_loss: 0.5863 - val_acc: 0.8110\n",
      "Epoch 6/30\n",
      "55000/55000 [==============================] - 4s 78us/sample - loss: 0.5808 - acc: 0.8088 - val_loss: 0.5585 - val_acc: 0.8204\n",
      "Epoch 7/30\n",
      "55000/55000 [==============================] - 4s 78us/sample - loss: 0.5548 - acc: 0.8161 - val_loss: 0.5370 - val_acc: 0.8230\n",
      "Epoch 8/30\n",
      "55000/55000 [==============================] - 4s 78us/sample - loss: 0.5347 - acc: 0.8207 - val_loss: 0.5173 - val_acc: 0.8306\n",
      "Epoch 9/30\n",
      "55000/55000 [==============================] - 4s 80us/sample - loss: 0.5185 - acc: 0.8252 - val_loss: 0.5034 - val_acc: 0.8356\n",
      "Epoch 10/30\n",
      "55000/55000 [==============================] - 4s 81us/sample - loss: 0.5050 - acc: 0.8287 - val_loss: 0.4894 - val_acc: 0.8366\n",
      "Epoch 11/30\n",
      "55000/55000 [==============================] - 4s 81us/sample - loss: 0.4936 - acc: 0.8316 - val_loss: 0.4857 - val_acc: 0.8392\n",
      "Epoch 12/30\n",
      "55000/55000 [==============================] - 4s 78us/sample - loss: 0.4838 - acc: 0.8347 - val_loss: 0.4738 - val_acc: 0.8408\n",
      "Epoch 13/30\n",
      "55000/55000 [==============================] - 4s 79us/sample - loss: 0.4753 - acc: 0.8373 - val_loss: 0.4637 - val_acc: 0.8444\n",
      "Epoch 14/30\n",
      "55000/55000 [==============================] - 4s 78us/sample - loss: 0.4681 - acc: 0.8392 - val_loss: 0.4600 - val_acc: 0.8486\n",
      "Epoch 15/30\n",
      "55000/55000 [==============================] - 4s 78us/sample - loss: 0.4613 - acc: 0.8410 - val_loss: 0.4531 - val_acc: 0.8506\n",
      "Epoch 16/30\n",
      "55000/55000 [==============================] - 4s 79us/sample - loss: 0.4550 - acc: 0.8433 - val_loss: 0.4511 - val_acc: 0.8486\n",
      "Epoch 17/30\n",
      "55000/55000 [==============================] - 4s 77us/sample - loss: 0.4496 - acc: 0.8451 - val_loss: 0.4439 - val_acc: 0.8502\n",
      "Epoch 18/30\n",
      "55000/55000 [==============================] - 4s 78us/sample - loss: 0.4448 - acc: 0.8461 - val_loss: 0.4403 - val_acc: 0.8550\n",
      "Epoch 19/30\n",
      "55000/55000 [==============================] - 4s 79us/sample - loss: 0.4399 - acc: 0.8484 - val_loss: 0.4348 - val_acc: 0.8544\n",
      "Epoch 20/30\n",
      "55000/55000 [==============================] - 4s 80us/sample - loss: 0.4358 - acc: 0.8497 - val_loss: 0.4304 - val_acc: 0.8574\n",
      "Epoch 21/30\n",
      "55000/55000 [==============================] - 4s 79us/sample - loss: 0.4315 - acc: 0.8516 - val_loss: 0.4255 - val_acc: 0.8572\n",
      "Epoch 22/30\n",
      "55000/55000 [==============================] - 4s 78us/sample - loss: 0.4279 - acc: 0.8520 - val_loss: 0.4216 - val_acc: 0.8590\n",
      "Epoch 23/30\n",
      "55000/55000 [==============================] - 4s 79us/sample - loss: 0.4240 - acc: 0.8531 - val_loss: 0.4193 - val_acc: 0.8610\n",
      "Epoch 24/30\n",
      "55000/55000 [==============================] - 4s 77us/sample - loss: 0.4207 - acc: 0.8545 - val_loss: 0.4148 - val_acc: 0.8624\n",
      "Epoch 25/30\n",
      "55000/55000 [==============================] - 4s 78us/sample - loss: 0.4175 - acc: 0.8558 - val_loss: 0.4124 - val_acc: 0.8626\n",
      "Epoch 26/30\n",
      "55000/55000 [==============================] - 5s 82us/sample - loss: 0.4143 - acc: 0.8565 - val_loss: 0.4092 - val_acc: 0.8638\n",
      "Epoch 27/30\n",
      "55000/55000 [==============================] - 7s 123us/sample - loss: 0.4116 - acc: 0.8578 - val_loss: 0.4073 - val_acc: 0.8620\n",
      "Epoch 28/30\n",
      "55000/55000 [==============================] - 5s 99us/sample - loss: 0.4087 - acc: 0.8585 - val_loss: 0.4075 - val_acc: 0.8608\n",
      "Epoch 29/30\n",
      "55000/55000 [==============================] - 5s 92us/sample - loss: 0.4063 - acc: 0.8590 - val_loss: 0.4058 - val_acc: 0.8636\n",
      "Epoch 30/30\n",
      "55000/55000 [==============================] - 5s 95us/sample - loss: 0.4033 - acc: 0.8600 - val_loss: 0.4017 - val_acc: 0.8652\n"
     ]
    }
   ],
   "source": [
    "## TRAINING AND EVALUATING THE MODEL \n",
    "\n",
    "# we pass it the input features (X_train) and the target classes (y_train)\n",
    "# defined the number of epochs\n",
    "# set a validation (it's optional)\n",
    "# Keras will measure the loss and other metrics at the end of each epochs\n",
    "#if the performance on the training set is better than the validation set -- youre overfitting\n",
    "\n",
    "\n",
    "history = model.fit(X_train,\n",
    "                    y_train,\n",
    "                    epochs= 30,\n",
    "                    validation_data=(X_valid, y_valid))"
   ]
  },
  {
   "cell_type": "code",
   "execution_count": 78,
   "metadata": {},
   "outputs": [
    {
     "data": {
      "text/plain": [
       "{'batch_size': 32,\n",
       " 'epochs': 30,\n",
       " 'steps': None,\n",
       " 'samples': 55000,\n",
       " 'verbose': 0,\n",
       " 'do_validation': True,\n",
       " 'metrics': ['loss', 'acc', 'val_loss', 'val_acc']}"
      ]
     },
     "execution_count": 78,
     "metadata": {},
     "output_type": "execute_result"
    }
   ],
   "source": [
    "history.params\n",
    "#batch_size by default is 32"
   ]
  },
  {
   "cell_type": "code",
   "execution_count": 79,
   "metadata": {},
   "outputs": [
    {
     "data": {
      "text/plain": [
       "{'loss': [1.4710805988918652,\n",
       "  0.88179042597684,\n",
       "  0.7367592792597684,\n",
       "  0.6632616600470109,\n",
       "  0.6151048245863481,\n",
       "  0.5807900274883617,\n",
       "  0.5548430873914199,\n",
       "  0.5346934835000472,\n",
       "  0.5185092598958448,\n",
       "  0.5050240667213093,\n",
       "  0.4935697975505482,\n",
       "  0.4838099684715271,\n",
       "  0.4753236414215781,\n",
       "  0.4680714136903936,\n",
       "  0.46125665350393813,\n",
       "  0.45502637178681116,\n",
       "  0.44960191859332,\n",
       "  0.44481787250258703,\n",
       "  0.4398546092423526,\n",
       "  0.4357699431636117,\n",
       "  0.4315146349863573,\n",
       "  0.42791244333223866,\n",
       "  0.42403763707767833,\n",
       "  0.4206726028268987,\n",
       "  0.4175426039435647,\n",
       "  0.4143035936832428,\n",
       "  0.4115513803352009,\n",
       "  0.40874608635902404,\n",
       "  0.4062524888472124,\n",
       "  0.4033046832279725],\n",
       " 'acc': [0.5933818,\n",
       "  0.7189818,\n",
       "  0.75943637,\n",
       "  0.78547275,\n",
       "  0.7997818,\n",
       "  0.8087818,\n",
       "  0.8160909,\n",
       "  0.8207273,\n",
       "  0.8252182,\n",
       "  0.8286545,\n",
       "  0.83156365,\n",
       "  0.8347273,\n",
       "  0.8372909,\n",
       "  0.83918184,\n",
       "  0.84096366,\n",
       "  0.84327275,\n",
       "  0.84505457,\n",
       "  0.8460909,\n",
       "  0.8483818,\n",
       "  0.84965456,\n",
       "  0.85156363,\n",
       "  0.8519818,\n",
       "  0.8530727,\n",
       "  0.8545455,\n",
       "  0.8558364,\n",
       "  0.85652727,\n",
       "  0.85783637,\n",
       "  0.8584727,\n",
       "  0.85898185,\n",
       "  0.85996366],\n",
       " 'val_loss': [1.0066167085647584,\n",
       "  0.7759254833221435,\n",
       "  0.6823332696914672,\n",
       "  0.6259038153648376,\n",
       "  0.5863009365081787,\n",
       "  0.5585246965408325,\n",
       "  0.5370323051452637,\n",
       "  0.5172614727973938,\n",
       "  0.5034090598106384,\n",
       "  0.48940557088851927,\n",
       "  0.48566943855285644,\n",
       "  0.47382661876678467,\n",
       "  0.463690069770813,\n",
       "  0.46001247262954714,\n",
       "  0.4530838144302368,\n",
       "  0.4511428855895996,\n",
       "  0.4439425922393799,\n",
       "  0.44029437260627746,\n",
       "  0.43484359302520753,\n",
       "  0.4303697263717651,\n",
       "  0.42545759215354917,\n",
       "  0.42160188837051393,\n",
       "  0.41932894582748415,\n",
       "  0.41477832655906677,\n",
       "  0.41235400776863096,\n",
       "  0.4092100996017456,\n",
       "  0.40731439480781556,\n",
       "  0.40750644273757936,\n",
       "  0.4057805551528931,\n",
       "  0.4017345494747162],\n",
       " 'val_acc': [0.6968,\n",
       "  0.7446,\n",
       "  0.7802,\n",
       "  0.8,\n",
       "  0.811,\n",
       "  0.8204,\n",
       "  0.823,\n",
       "  0.8306,\n",
       "  0.8356,\n",
       "  0.8366,\n",
       "  0.8392,\n",
       "  0.8408,\n",
       "  0.8444,\n",
       "  0.8486,\n",
       "  0.8506,\n",
       "  0.8486,\n",
       "  0.8502,\n",
       "  0.855,\n",
       "  0.8544,\n",
       "  0.8574,\n",
       "  0.8572,\n",
       "  0.859,\n",
       "  0.861,\n",
       "  0.8624,\n",
       "  0.8626,\n",
       "  0.8638,\n",
       "  0.862,\n",
       "  0.8608,\n",
       "  0.8636,\n",
       "  0.8652]}"
      ]
     },
     "execution_count": 79,
     "metadata": {},
     "output_type": "execute_result"
    }
   ],
   "source": [
    "history.history"
   ]
  },
  {
   "cell_type": "code",
   "execution_count": 80,
   "metadata": {},
   "outputs": [],
   "source": [
    "import pandas as pd"
   ]
  },
  {
   "cell_type": "code",
   "execution_count": 81,
   "metadata": {},
   "outputs": [],
   "source": [
    "import matplotlib.pyplot as plt"
   ]
  },
  {
   "cell_type": "code",
   "execution_count": 87,
   "metadata": {},
   "outputs": [
    {
     "data": {
      "image/png": "[encoded data removed]",
      "text/plain": [
       "<Figure size 576x360 with 1 Axes>"
      ]
     },
     "metadata": {
      "needs_background": "light"
     },
     "output_type": "display_data"
    }
   ],
   "source": [
    "# training and accuracy during the training are relatively close (which means not too much overfitting)\n",
    "\n",
    "pd.DataFrame(history.history).plot(figsize = (8,5))\n",
    "plt.grid(True)\n",
    "plt.gca().set_ylim(0.3,1)\n",
    "plt.show()"
   ]
  },
  {
   "cell_type": "code",
   "execution_count": 88,
   "metadata": {},
   "outputs": [],
   "source": [
    "# if youre unstatified with your model, tune the hyperparameters"
   ]
  },
  {
   "cell_type": "code",
   "execution_count": 89,
   "metadata": {},
   "outputs": [
    {
     "name": "stdout",
     "output_type": "stream",
     "text": [
      "10000/10000 [==============================] - 0s 44us/sample - loss: 2.9302 - acc: 0.8155\n"
     ]
    },
    {
     "data": {
      "text/plain": [
       "[2.930175337266922, 0.8155]"
      ]
     },
     "execution_count": 89,
     "metadata": {},
     "output_type": "execute_result"
    }
   ],
   "source": [
    "# once you are satisfied with your model validation accuracy, you should evaluate if on the testing set\n",
    "# using the evaluate() method\n",
    "\n",
    "model.evaluate(X_test, y_test)"
   ]
  },
  {
   "cell_type": "code",
   "execution_count": 96,
   "metadata": {},
   "outputs": [
    {
     "data": {
      "text/plain": [
       "array([[0., 0., 0., 0., 0., 0., 0., 0., 0., 1.],\n",
       "       [0., 0., 1., 0., 0., 0., 0., 0., 0., 0.],\n",
       "       [0., 1., 0., 0., 0., 0., 0., 0., 0., 0.]], dtype=float32)"
      ]
     },
     "execution_count": 96,
     "metadata": {},
     "output_type": "execute_result"
    }
   ],
   "source": [
    "# USING MODEL TO MAKE PREDICTIONS\n",
    "\n",
    "X_new = X_test[:3]\n",
    "y_proba = model.predict(X_new)\n",
    "y_proba.round(2)"
   ]
  },
  {
   "cell_type": "code",
   "execution_count": 98,
   "metadata": {},
   "outputs": [
    {
     "name": "stdout",
     "output_type": "stream",
     "text": [
      "[9 2 1]\n"
     ]
    },
    {
     "data": {
      "text/plain": [
       "array(['Ankle boot', 'Pullover', 'Trouser'], dtype='<U11')"
      ]
     },
     "execution_count": 98,
     "metadata": {},
     "output_type": "execute_result"
    }
   ],
   "source": [
    "# classifying with the highest estimated probability, then use predict_classes() method\n",
    "y_pred = model.predict_classes(X_new)\n",
    "print(y_pred)\n",
    "np.array(class_names)[y_pred]"
   ]
  },
  {
   "cell_type": "code",
   "execution_count": 100,
   "metadata": {},
   "outputs": [
    {
     "data": {
      "text/plain": [
       "array([9, 2, 1], dtype=uint8)"
      ]
     },
     "execution_count": 100,
     "metadata": {},
     "output_type": "execute_result"
    }
   ],
   "source": [
    "# the ACTUAL classififed images\n",
    "y_new = y_test[:3]\n",
    "y_new\n",
    "\n",
    "# since they match from the training model, it is correct "
   ]
  },
  {
   "cell_type": "code",
   "execution_count": null,
   "metadata": {},
   "outputs": [],
   "source": []
  }
 ],
 "metadata": {
  "kernelspec": {
   "display_name": "Python 3",
   "language": "python",
   "name": "python3"
  },
  "language_info": {
   "codemirror_mode": {
    "name": "ipython",
    "version": 3
   },
   "file_extension": ".py",
   "mimetype": "text/x-python",
   "name": "python",
   "nbconvert_exporter": "python",
   "pygments_lexer": "ipython3",
   "version": "3.7.0"
  }
 },
 "nbformat": 4,
 "nbformat_minor": 2
}
